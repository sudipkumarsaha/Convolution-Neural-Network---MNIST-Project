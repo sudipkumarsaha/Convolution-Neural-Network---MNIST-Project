{
  "nbformat": 4,
  "nbformat_minor": 0,
  "metadata": {
    "colab": {
      "name": "Implementation of CNN using Python",
      "provenance": [],
      "collapsed_sections": []
    },
    "kernelspec": {
      "name": "python3",
      "display_name": "Python 3"
    },
    "language_info": {
      "name": "python"
    }
  },
  "cells": [
    {
      "cell_type": "code",
      "execution_count": 21,
      "metadata": {
        "id": "mbHTkwJCGFxM"
      },
      "outputs": [],
      "source": [
        "# Sample test data is MNIST\n",
        "# Importing the required libraries\n",
        "from tensorflow.keras.datasets import mnist\n",
        "from tensorflow.keras.models import Sequential\n",
        "from tensorflow.keras.layers import Conv2D\n",
        "from tensorflow.keras.layers import MaxPool2D\n",
        "from tensorflow.keras.layers import Flatten\n",
        "from tensorflow.keras.layers import Dropout\n",
        "from tensorflow.keras.layers import Dense"
      ]
    },
    {
      "cell_type": "code",
      "source": [
        "# Loading Data\n",
        "(x_train,y_train),(x_test,y_test)=mnist.load_data()"
      ],
      "metadata": {
        "colab": {
          "base_uri": "https://localhost:8080/"
        },
        "id": "JUI8xcpeGUIe",
        "outputId": "f1c600f1-5543-4b51-d0aa-c129f34e784c"
      },
      "execution_count": 2,
      "outputs": [
        {
          "output_type": "stream",
          "name": "stdout",
          "text": [
            "Downloading data from https://storage.googleapis.com/tensorflow/tf-keras-datasets/mnist.npz\n",
            "11493376/11490434 [==============================] - 0s 0us/step\n",
            "11501568/11490434 [==============================] - 0s 0us/step\n"
          ]
        }
      ]
    },
    {
      "cell_type": "code",
      "source": [
        "#Reshaping Data\n",
        "x_train=x_train.reshape((x_train.shape[0],x_train.shape[1],x_train.shape[2],1))\n",
        "x_test=x_test.reshape((x_test.shape[0],x_test.shape[1],x_test.shape[2],1))"
      ],
      "metadata": {
        "id": "LnZZHYKuHXAo"
      },
      "execution_count": 3,
      "outputs": []
    },
    {
      "cell_type": "code",
      "source": [
        "# Checking the Shape after Re-shaping\n",
        "print(x_train.shape)\n",
        "print(x_test.shape)"
      ],
      "metadata": {
        "colab": {
          "base_uri": "https://localhost:8080/"
        },
        "id": "cUqBQb6JIN-R",
        "outputId": "b4529238-110e-449e-c570-046811e7657d"
      },
      "execution_count": 5,
      "outputs": [
        {
          "output_type": "stream",
          "name": "stdout",
          "text": [
            "(60000, 28, 28, 1)\n",
            "(10000, 28, 28, 1)\n"
          ]
        }
      ]
    },
    {
      "cell_type": "code",
      "source": [
        "# Normalizing the pixel value\n",
        "\n",
        "x_train=x_train/255\n",
        "x_test=x_test/255\n"
      ],
      "metadata": {
        "id": "o5Lp0X1MITq1"
      },
      "execution_count": 6,
      "outputs": []
    },
    {
      "cell_type": "code",
      "source": [
        "# Defining the Model\n",
        "model=Sequential()"
      ],
      "metadata": {
        "id": "8RsEKwv_J1q7"
      },
      "execution_count": 7,
      "outputs": []
    },
    {
      "cell_type": "code",
      "source": [
        "# Adding Convolution Layer\n",
        "model.add(Conv2D(32,(3,3),activation='relu',input_shape=(28,28,1)))"
      ],
      "metadata": {
        "id": "kTHr0bP_KDIw"
      },
      "execution_count": 10,
      "outputs": []
    },
    {
      "cell_type": "code",
      "source": [
        "# Adding Pooling Layer\n",
        "model.add(MaxPool2D(2,2))"
      ],
      "metadata": {
        "id": "CQsEDfwnKi1q"
      },
      "execution_count": 11,
      "outputs": []
    },
    {
      "cell_type": "code",
      "source": [
        "# Adding Fully Connected Layer\n",
        "model.add(Flatten())\n",
        "model.add(Dense(100,activation='relu'))"
      ],
      "metadata": {
        "id": "u1l_Rb27KyFw"
      },
      "execution_count": 13,
      "outputs": []
    },
    {
      "cell_type": "code",
      "source": [
        "# Adding Output Layer\n",
        "model.add(Dense(10,activation='softmax'))"
      ],
      "metadata": {
        "id": "pzxA9elkK7Ce"
      },
      "execution_count": 17,
      "outputs": []
    },
    {
      "cell_type": "code",
      "source": [
        "# Compiling the model\n",
        "model.compile(loss='sparse_categorical_crossentropy',optimizer='adam',metrics=['accuracy'])"
      ],
      "metadata": {
        "id": "3MIhBO0nLUV5"
      },
      "execution_count": 15,
      "outputs": []
    },
    {
      "cell_type": "code",
      "source": [
        "# Fitting the model\n",
        "model.fit(x_train,y_train,epochs=10)"
      ],
      "metadata": {
        "colab": {
          "base_uri": "https://localhost:8080/"
        },
        "id": "LzSpN0uVLxLq",
        "outputId": "80eab53d-0b03-4f58-955e-1b55aa273996"
      },
      "execution_count": 18,
      "outputs": [
        {
          "output_type": "stream",
          "name": "stdout",
          "text": [
            "Epoch 1/10\n",
            "1875/1875 [==============================] - 35s 18ms/step - loss: 0.0033 - accuracy: 0.9989\n",
            "Epoch 2/10\n",
            "1875/1875 [==============================] - 34s 18ms/step - loss: 0.0031 - accuracy: 0.9989\n",
            "Epoch 3/10\n",
            "1875/1875 [==============================] - 34s 18ms/step - loss: 0.0036 - accuracy: 0.9990\n",
            "Epoch 4/10\n",
            "1875/1875 [==============================] - 35s 18ms/step - loss: 0.0030 - accuracy: 0.9991\n",
            "Epoch 5/10\n",
            "1875/1875 [==============================] - 35s 19ms/step - loss: 0.0016 - accuracy: 0.9995\n",
            "Epoch 6/10\n",
            "1875/1875 [==============================] - 36s 19ms/step - loss: 0.0020 - accuracy: 0.9994\n",
            "Epoch 7/10\n",
            "1875/1875 [==============================] - 35s 19ms/step - loss: 0.0026 - accuracy: 0.9992\n",
            "Epoch 8/10\n",
            "1875/1875 [==============================] - 35s 18ms/step - loss: 0.0025 - accuracy: 0.9991\n",
            "Epoch 9/10\n",
            "1875/1875 [==============================] - 34s 18ms/step - loss: 0.0025 - accuracy: 0.9992\n",
            "Epoch 10/10\n",
            "1875/1875 [==============================] - 34s 18ms/step - loss: 6.7767e-04 - accuracy: 0.9999\n"
          ]
        },
        {
          "output_type": "execute_result",
          "data": {
            "text/plain": [
              "<keras.callbacks.History at 0x7fe11e0862d0>"
            ]
          },
          "metadata": {},
          "execution_count": 18
        }
      ]
    }
  ]
}